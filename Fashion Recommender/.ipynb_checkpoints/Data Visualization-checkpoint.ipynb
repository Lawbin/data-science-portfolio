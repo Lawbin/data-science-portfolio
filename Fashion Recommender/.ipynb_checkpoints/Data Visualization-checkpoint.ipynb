{
 "cells": [
  {
   "cell_type": "code",
   "execution_count": 106,
   "metadata": {},
   "outputs": [],
   "source": [
    "import os\n",
    "\n",
    "# function to count number of categories, patterns, and colors\n",
    "\n",
    "def total_files_count_type(fname):\n",
    "    files = folders = 0\n",
    "    for _, dirnames, filenames in os.walk(fname):\n",
    "      # ^ this idiom means \"we won't be using this value\"\n",
    "        files += len(filenames)\n",
    "        folders += len(dirnames)\n",
    "    return files, folders\n",
    "\n",
    "num_img, category = total_files_count_type('E:\\e_Documents\\Data Science\\Xccelerate\\FTDS\\Capstone\\images\\data\\category')\n",
    "num_img, patterns = total_files_count_type('E:\\e_Documents\\Data Science\\Xccelerate\\FTDS\\Capstone\\images\\data\\patterns')\n",
    "num_img, color = total_files_count_type('E:\\e_Documents\\Data Science\\Xccelerate\\FTDS\\Capstone\\images\\data\\color')"
   ]
  },
  {
   "cell_type": "code",
   "execution_count": 107,
   "metadata": {},
   "outputs": [],
   "source": [
    "# function to count number of files per category/pattern/color\n",
    "def imgs_per_type(fname):\n",
    "    files = 0\n",
    "    diction = {}\n",
    "    for _, dirnames, filenames in os.walk(fname):\n",
    "        for direct in dirnames:\n",
    "            temp_path = fname + '/' + direct\n",
    "            num_files = len(os.listdir(temp_path)) # creates list of file names in the path then counts\n",
    "            diction[direct] = num_files\n",
    "    return diction"
   ]
  },
  {
   "cell_type": "code",
   "execution_count": 108,
   "metadata": {},
   "outputs": [
    {
     "data": {
      "text/plain": [
       "{'blazers': 543,\n",
       " 'dresses': 1111,\n",
       " 'hoodies&sweatshirts': 1326,\n",
       " 'jackets&coats': 1088,\n",
       " 'jeans': 1315,\n",
       " 'knitwear&cardigans': 1309,\n",
       " 'pants': 1316,\n",
       " 'shorts': 1299,\n",
       " 'skirts': 1325,\n",
       " 'tops': 756}"
      ]
     },
     "execution_count": 108,
     "metadata": {},
     "output_type": "execute_result"
    }
   ],
   "source": [
    "imgs_per_type('E:\\e_Documents\\Data Science\\Xccelerate\\FTDS\\Capstone\\images\\data\\category')"
   ]
  },
  {
   "cell_type": "code",
   "execution_count": 104,
   "metadata": {},
   "outputs": [
    {
     "data": {
      "text/plain": [
       "{'checks': 854,\n",
       " 'dots': 761,\n",
       " 'floral': 1069,\n",
       " 'graphic': 991,\n",
       " 'solid': 913,\n",
       " 'stripes': 1002}"
      ]
     },
     "execution_count": 104,
     "metadata": {},
     "output_type": "execute_result"
    }
   ],
   "source": [
    "imgs_per_type('E:\\e_Documents\\Data Science\\Xccelerate\\FTDS\\Capstone\\images\\data\\patterns')"
   ]
  },
  {
   "cell_type": "code",
   "execution_count": 105,
   "metadata": {},
   "outputs": [
    {
     "data": {
      "text/plain": [
       "{'black&white': 792,\n",
       " 'blue': 1043,\n",
       " 'brown': 142,\n",
       " 'green': 1002,\n",
       " 'light_pink&beige': 802,\n",
       " 'orange': 638,\n",
       " 'purple': 241,\n",
       " 'red&pink': 1058,\n",
       " 'yellow': 933}"
      ]
     },
     "execution_count": 105,
     "metadata": {},
     "output_type": "execute_result"
    }
   ],
   "source": [
    "imgs_per_type('E:\\e_Documents\\Data Science\\Xccelerate\\FTDS\\Capstone\\images\\data\\color')"
   ]
  }
 ],
 "metadata": {
  "kernelspec": {
   "display_name": "Python 3",
   "language": "python",
   "name": "python3"
  },
  "language_info": {
   "codemirror_mode": {
    "name": "ipython",
    "version": 3
   },
   "file_extension": ".py",
   "mimetype": "text/x-python",
   "name": "python",
   "nbconvert_exporter": "python",
   "pygments_lexer": "ipython3",
   "version": "3.7.7"
  },
  "toc": {
   "base_numbering": 1,
   "nav_menu": {},
   "number_sections": true,
   "sideBar": true,
   "skip_h1_title": false,
   "title_cell": "Table of Contents",
   "title_sidebar": "Contents",
   "toc_cell": false,
   "toc_position": {},
   "toc_section_display": true,
   "toc_window_display": false
  },
  "varInspector": {
   "cols": {
    "lenName": 16,
    "lenType": 16,
    "lenVar": 40
   },
   "kernels_config": {
    "python": {
     "delete_cmd_postfix": "",
     "delete_cmd_prefix": "del ",
     "library": "var_list.py",
     "varRefreshCmd": "print(var_dic_list())"
    },
    "r": {
     "delete_cmd_postfix": ") ",
     "delete_cmd_prefix": "rm(",
     "library": "var_list.r",
     "varRefreshCmd": "cat(var_dic_list()) "
    }
   },
   "types_to_exclude": [
    "module",
    "function",
    "builtin_function_or_method",
    "instance",
    "_Feature"
   ],
   "window_display": false
  }
 },
 "nbformat": 4,
 "nbformat_minor": 4
}
